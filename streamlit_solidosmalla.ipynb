{
 "cells": [
  {
   "cell_type": "code",
   "execution_count": null,
   "metadata": {},
   "outputs": [],
   "source": [
    "import streamlit as st\n",
    "import pandas as pd\n",
    "import datetime\n",
    "\n",
    "# Función para sumar las columnas para un rango de fechas\n",
    "def sumar_por_fecha(df, start_date, end_date):\n",
    "    mask = (df['fecha'] >= start_date) & (df['fecha'] <= end_date)\n",
    "    return df.loc[mask].sum(numeric_only=True)\n",
    "\n",
    "# Título de la aplicación\n",
    "st.title('Sumador de Datos por Fecha')\n",
    "\n",
    "# Carga de archivo\n",
    "uploaded_file = st.file_uploader(\"Elige un archivo CSV\", type=\"csv\")\n",
    "if uploaded_file is not None:\n",
    "    # Lectura de datos\n",
    "    data = pd.read_csv(uploaded_file)\n",
    "\n",
    "    # Asegurarse de que la columna de fecha es de tipo datetime\n",
    "    data['fecha'] = pd.to_datetime(data['fecha'])\n",
    "\n",
    "    # Selector de rango de fecha\n",
    "    min_date = data['fecha'].min()\n",
    "    max_date = data['fecha'].max()\n",
    "    start_date = st.date_input('Fecha de inicio', min_date)\n",
    "    end_date = st.date_input('Fecha de fin', max_date)\n",
    "\n",
    "    # Verificar que la fecha de inicio no sea mayor que la fecha de fin\n",
    "    if start_date <= end_date:\n",
    "        # Suma de datos\n",
    "        sum_data = sumar_por_fecha(data, start_date, end_date)\n",
    "        st.write('Suma de datos para el rango seleccionado:')\n",
    "        st.write(sum_data)\n",
    "    else:\n",
    "        st.error('Error: La fecha de inicio debe ser anterior a la fecha de fin.')\n",
    "\n"
   ]
  }
 ],
 "metadata": {
  "language_info": {
   "name": "python"
  }
 },
 "nbformat": 4,
 "nbformat_minor": 2
}
